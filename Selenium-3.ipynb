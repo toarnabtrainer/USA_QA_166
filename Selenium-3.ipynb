{
 "cells": [
  {
   "cell_type": "code",
   "execution_count": null,
   "id": "02eabcbd-66fa-4a7b-833e-313a61e37ad2",
   "metadata": {},
   "outputs": [],
   "source": [
    "# please \n",
    "__init__()\n",
    "__doc__"
   ]
  },
  {
   "cell_type": "code",
   "execution_count": 3,
   "id": "4d13de05-4e88-4522-853f-a31bfda12a70",
   "metadata": {},
   "outputs": [
    {
     "name": "stdout",
     "output_type": "stream",
     "text": [
      "University <class 'str'>\n",
      "str(object='') -> str\n",
      "str(bytes_or_buffer[, encoding[, errors]]) -> str\n",
      "\n",
      "Create a new string object from the given object. If encoding or\n",
      "errors is specified, then the object must expose a data buffer\n",
      "that will be decoded using the given encoding and error handler.\n",
      "Otherwise, returns the result of object.__str__() (if defined)\n",
      "or repr(object).\n",
      "encoding defaults to sys.getdefaultencoding().\n",
      "errors defaults to 'strict'.\n"
     ]
    }
   ],
   "source": [
    "var1 = \"University\"\n",
    "print (var1, type(var1))\n",
    "print (str.__doc__)"
   ]
  },
  {
   "cell_type": "code",
   "execution_count": 14,
   "id": "3a1941f2-7808-4606-b59f-f10a1d4434da",
   "metadata": {},
   "outputs": [
    {
     "name": "stdout",
     "output_type": "stream",
     "text": [
      "Executing the constructor method...\n",
      "Displaying the content of the instance variables...\n",
      "So var1 = 100 and var2 = 200...\n",
      "self = <__main__.MyClass object at 0x000001A82F750FA0>\n",
      "\n",
      "This is a document string\n",
      "depicting the description and definition\n",
      "of the class.\n",
      "\n",
      "This is a document string\n",
      "depicting the description and definition\n",
      "of the class.\n"
     ]
    }
   ],
   "source": [
    "class MyClass:\n",
    "    \"\"\"This is a document string\n",
    "depicting the description and definition\n",
    "of the class.\"\"\"\n",
    "    def __init__(self, par1, par2):   # self is an object binding variable\n",
    "        print (\"Executing the constructor method...\")\n",
    "        self.var1 = par1\n",
    "        self.var2 = par2\n",
    "    def display(self):\n",
    "        print (\"Displaying the content of the instance variables...\")\n",
    "        print (f\"So var1 = {self.var1} and var2 = {self.var2}...\")\n",
    "        print (f\"self = {self}\")\n",
    "        \n",
    "ob1 = MyClass(100, 200)\n",
    "ob1.display()\n",
    "print ()\n",
    "print (ob1.__doc__)\n",
    "print ()\n",
    "print (MyClass.__doc__)"
   ]
  },
  {
   "cell_type": "code",
   "execution_count": 15,
   "id": "fe424b96-712c-4e4a-97e9-275de8f20c88",
   "metadata": {},
   "outputs": [
    {
     "name": "stdout",
     "output_type": "stream",
     "text": [
      "4.1.3\n"
     ]
    }
   ],
   "source": [
    "# importing required modules\n",
    "from selenium import webdriver\n",
    "\n",
    "# check the version of the seleium\n",
    "print (webdriver.__version__)"
   ]
  },
  {
   "cell_type": "code",
   "execution_count": 17,
   "id": "9f51c499-941a-41d7-b063-aa38b8b6c538",
   "metadata": {},
   "outputs": [
    {
     "name": "stderr",
     "output_type": "stream",
     "text": [
      "<ipython-input-17-9cdda882a659>:1: DeprecationWarning: executable_path has been deprecated, please pass in a Service object\n",
      "  driver = webdriver.Chrome(executable_path = \"./chromedriver.exe\")\n"
     ]
    }
   ],
   "source": [
    "driver = webdriver.Chrome(executable_path = \"./chromedriver.exe\")"
   ]
  },
  {
   "cell_type": "code",
   "execution_count": 18,
   "id": "cc037e26-84d7-45ae-bbe9-e5b124d75b2f",
   "metadata": {},
   "outputs": [],
   "source": [
    "driver.get(\"https://www.calculator.net/currency-calculator.html\")"
   ]
  },
  {
   "cell_type": "code",
   "execution_count": 19,
   "id": "200397c6-82c1-49f5-af00-0d572e394721",
   "metadata": {},
   "outputs": [],
   "source": [
    "from selenium.webdriver.support.ui import Select"
   ]
  },
  {
   "cell_type": "code",
   "execution_count": 27,
   "id": "56199d15-5f43-4a07-b1b6-1619c6333977",
   "metadata": {},
   "outputs": [
    {
     "name": "stderr",
     "output_type": "stream",
     "text": [
      "<ipython-input-27-7b440a38d44c>:1: DeprecationWarning: find_element_by_xpath is deprecated. Please use find_element(by=By.XPATH, value=xpath) instead\n",
      "  from_currency = Select(driver.find_element_by_xpath('//*[@id=\"efrom\"]'))\n",
      "<ipython-input-27-7b440a38d44c>:4: DeprecationWarning: find_element_by_xpath is deprecated. Please use find_element(by=By.XPATH, value=xpath) instead\n",
      "  to_currency = Select(driver.find_element_by_xpath('//*[@id=\"eto\"]'))\n",
      "<ipython-input-27-7b440a38d44c>:8: DeprecationWarning: find_element_by_xpath is deprecated. Please use find_element(by=By.XPATH, value=xpath) instead\n",
      "  amount_textbox = driver.find_element_by_xpath('//*[@id=\"eamount\"]')\n",
      "<ipython-input-27-7b440a38d44c>:12: DeprecationWarning: find_element_by_xpath is deprecated. Please use find_element(by=By.XPATH, value=xpath) instead\n",
      "  calculate_button = driver.find_element_by_xpath('//*[@id=\"standard\"]/tbody/tr[5]/td[2]/input[2]')\n"
     ]
    }
   ],
   "source": [
    "from_currency = Select(driver.find_element_by_xpath('//*[@id=\"efrom\"]'))\n",
    "from_currency.select_by_visible_text(\"INR: Indian Rupee\")\n",
    "\n",
    "to_currency = Select(driver.find_element_by_xpath('//*[@id=\"eto\"]'))\n",
    "to_currency.select_by_value(\"USD\")\n",
    "\n",
    "# put the amunt 500\n",
    "amount_textbox = driver.find_element_by_xpath('//*[@id=\"eamount\"]')\n",
    "amount_textbox.clear()\n",
    "amount_textbox.send_keys('500')\n",
    "\n",
    "calculate_button = driver.find_element_by_xpath('//*[@id=\"standard\"]/tbody/tr[5]/td[2]/input[2]')\n",
    "calculate_button.click()"
   ]
  },
  {
   "cell_type": "code",
   "execution_count": 28,
   "id": "ea1bbce7-a294-4498-a214-8914b863353e",
   "metadata": {},
   "outputs": [
    {
     "name": "stderr",
     "output_type": "stream",
     "text": [
      "<ipython-input-28-ff4478024107>:2: DeprecationWarning: find_element_by_xpath is deprecated. Please use find_element(by=By.XPATH, value=xpath) instead\n",
      "  checkbox = driver.find_element_by_xpath('//*[@id=\"ccmajorccsettingbox\"]')\n"
     ]
    }
   ],
   "source": [
    "# now we shall handle the checkbox\n",
    "checkbox = driver.find_element_by_xpath('//*[@id=\"ccmajorccsettingbox\"]')\n",
    "if checkbox.is_selected():\n",
    "    driver.execute_script(\"arguments[0].click();\", checkbox)"
   ]
  },
  {
   "cell_type": "code",
   "execution_count": 31,
   "id": "a63161e8-7ec5-48a1-b0cb-7100f6ae55a2",
   "metadata": {},
   "outputs": [
    {
     "name": "stderr",
     "output_type": "stream",
     "text": [
      "<ipython-input-31-cdd19352a312>:1: DeprecationWarning: find_element_by_xpath is deprecated. Please use find_element(by=By.XPATH, value=xpath) instead\n",
      "  from_currency = Select(driver.find_element_by_xpath('//*[@id=\"efrom\"]'))\n",
      "<ipython-input-31-cdd19352a312>:4: DeprecationWarning: find_element_by_xpath is deprecated. Please use find_element(by=By.XPATH, value=xpath) instead\n",
      "  amount_textbox = driver.find_element_by_xpath('//*[@id=\"eamount\"]')\n"
     ]
    }
   ],
   "source": [
    "from_currency = Select(driver.find_element_by_xpath('//*[@id=\"efrom\"]'))\n",
    "from_currency.select_by_value(\"ZWL\")\n",
    "\n",
    "amount_textbox = driver.find_element_by_xpath('//*[@id=\"eamount\"]')\n",
    "amount_textbox.clear()\n",
    "amount_textbox.send_keys('100')"
   ]
  },
  {
   "cell_type": "code",
   "execution_count": 32,
   "id": "2d99e81c-1e5c-46ca-86b9-9de35cbd4c1d",
   "metadata": {},
   "outputs": [
    {
     "name": "stderr",
     "output_type": "stream",
     "text": [
      "<ipython-input-32-8609125d2444>:1: DeprecationWarning: find_element_by_xpath is deprecated. Please use find_element(by=By.XPATH, value=xpath) instead\n",
      "  calculate_button = driver.find_element_by_xpath('//*[@id=\"standard\"]/tbody/tr[5]/td[2]/input[2]')\n"
     ]
    }
   ],
   "source": [
    "calculate_button = driver.find_element_by_xpath('//*[@id=\"standard\"]/tbody/tr[5]/td[2]/input[2]')\n",
    "calculate_button.click()"
   ]
  },
  {
   "cell_type": "code",
   "execution_count": 33,
   "id": "58957415-9867-41a9-af9a-a752be0643e1",
   "metadata": {},
   "outputs": [],
   "source": [
    "driver.quit()"
   ]
  },
  {
   "cell_type": "code",
   "execution_count": null,
   "id": "44f4d1a5-c961-4c27-80c3-8ba5dee83512",
   "metadata": {},
   "outputs": [],
   "source": []
  },
  {
   "cell_type": "code",
   "execution_count": null,
   "id": "c3ddcb20-ed2c-4f8e-9ed9-ece99ac83511",
   "metadata": {},
   "outputs": [],
   "source": []
  }
 ],
 "metadata": {
  "kernelspec": {
   "display_name": "Python 3",
   "language": "python",
   "name": "python3"
  },
  "language_info": {
   "codemirror_mode": {
    "name": "ipython",
    "version": 3
   },
   "file_extension": ".py",
   "mimetype": "text/x-python",
   "name": "python",
   "nbconvert_exporter": "python",
   "pygments_lexer": "ipython3",
   "version": "3.8.8"
  }
 },
 "nbformat": 4,
 "nbformat_minor": 5
}
