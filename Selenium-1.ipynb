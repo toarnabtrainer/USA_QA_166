{
 "cells": [
  {
   "cell_type": "code",
   "execution_count": 13,
   "id": "3c3a2916-1947-479f-89a5-1308a5cbd740",
   "metadata": {},
   "outputs": [
    {
     "name": "stdout",
     "output_type": "stream",
     "text": [
      "4.1.3\n"
     ]
    }
   ],
   "source": [
    "# importing required modules\n",
    "from selenium import webdriver\n",
    "\n",
    "# check the version of selenium\n",
    "print (webdriver.__version__)"
   ]
  },
  {
   "cell_type": "code",
   "execution_count": 14,
   "id": "66e77c0c-8f1e-46c0-9214-de5c286d3d41",
   "metadata": {},
   "outputs": [
    {
     "name": "stderr",
     "output_type": "stream",
     "text": [
      "<ipython-input-14-4bf4fa45f77a>:3: DeprecationWarning: executable_path has been deprecated, please pass in a Service object\n",
      "  driver = webdriver.Chrome(executable_path=\"./chromedriver.exe\")\n"
     ]
    }
   ],
   "source": [
    "# please check chromerdriver.exe is present in the same directory or not\n",
    "# otherwise provide the relative path\n",
    "driver = webdriver.Chrome(executable_path=\"./chromedriver.exe\")"
   ]
  },
  {
   "cell_type": "code",
   "execution_count": 15,
   "id": "36be8450-5218-4611-b112-c1eb68e12828",
   "metadata": {},
   "outputs": [],
   "source": [
    "# start wikipedia page\n",
    "driver.get(\"https://en.wikipedia.org/wiki/Main_Page\")"
   ]
  },
  {
   "cell_type": "code",
   "execution_count": 7,
   "id": "48f31394-0725-4edb-aadb-9c5d946a661b",
   "metadata": {},
   "outputs": [
    {
     "name": "stdout",
     "output_type": "stream",
     "text": [
      "So the current URL: https://en.wikipedia.org/wiki/Main_Page\n",
      "So the page title: Wikipedia, the free encyclopedia\n"
     ]
    }
   ],
   "source": [
    "print (\"So the current URL:\", driver.current_url)\n",
    "print (\"So the page title:\", driver.title)"
   ]
  },
  {
   "cell_type": "code",
   "execution_count": 8,
   "id": "112bfc3f-0216-4204-9c6c-8dff0dd1cd78",
   "metadata": {},
   "outputs": [
    {
     "name": "stdout",
     "output_type": "stream",
     "text": [
      "So the current URL: https://www.google.com/\n",
      "So the page title: Google\n"
     ]
    }
   ],
   "source": [
    "# now we shall open Google page\n",
    "driver.get(\"https://www.google.com/\")\n",
    "print (\"So the current URL:\", driver.current_url)\n",
    "print (\"So the page title:\", driver.title) "
   ]
  },
  {
   "cell_type": "code",
   "execution_count": 9,
   "id": "d9febea3-a545-4eeb-82b0-bdf5a0d29206",
   "metadata": {},
   "outputs": [
    {
     "name": "stdout",
     "output_type": "stream",
     "text": [
      "So the current URL: https://en.wikipedia.org/wiki/Main_Page\n",
      "So the page title: Wikipedia, the free encyclopedia\n"
     ]
    }
   ],
   "source": [
    "# now return back to the wikipedia page\n",
    "driver.back()\n",
    "print (\"So the current URL:\", driver.current_url)\n",
    "print (\"So the page title:\", driver.title)"
   ]
  },
  {
   "cell_type": "code",
   "execution_count": 10,
   "id": "6d1fc77e-86e8-4887-a0a0-2fe95ac612ff",
   "metadata": {},
   "outputs": [
    {
     "name": "stdout",
     "output_type": "stream",
     "text": [
      "So the current URL: https://www.google.com/\n",
      "So the page title: Google\n"
     ]
    }
   ],
   "source": [
    "# now to go forward to the Google page again\n",
    "driver.forward()\n",
    "print (\"So the current URL:\", driver.current_url)\n",
    "print (\"So the page title:\", driver.title)"
   ]
  },
  {
   "cell_type": "code",
   "execution_count": 12,
   "id": "d22c5ad8-337a-46b3-aa4d-d31738f2a5aa",
   "metadata": {},
   "outputs": [],
   "source": [
    "# now to close all the brower windows opened by the driver\n",
    "driver.quit()"
   ]
  },
  {
   "cell_type": "code",
   "execution_count": null,
   "id": "e7cb30f4-3e2b-44ac-8646-f13f2b01b6d3",
   "metadata": {},
   "outputs": [],
   "source": []
  },
  {
   "cell_type": "code",
   "execution_count": null,
   "id": "7d3f6ae8-2b6a-4e0a-86cd-7df910bb670b",
   "metadata": {},
   "outputs": [],
   "source": []
  },
  {
   "cell_type": "code",
   "execution_count": null,
   "id": "40186588-9edb-4013-b1d1-6f35d7312e51",
   "metadata": {},
   "outputs": [],
   "source": []
  },
  {
   "cell_type": "code",
   "execution_count": null,
   "id": "4813df03-056e-47ef-93b2-83c8113fc641",
   "metadata": {},
   "outputs": [],
   "source": []
  },
  {
   "cell_type": "code",
   "execution_count": null,
   "id": "6ff835e4-5713-49de-9a6c-aeb91467711e",
   "metadata": {},
   "outputs": [],
   "source": []
  },
  {
   "cell_type": "code",
   "execution_count": null,
   "id": "e18a2edd-d48f-4e79-99ac-dc941e053ba7",
   "metadata": {},
   "outputs": [],
   "source": []
  },
  {
   "cell_type": "code",
   "execution_count": null,
   "id": "1062e1bc-cb91-47f2-b02e-c9a945f98e63",
   "metadata": {},
   "outputs": [],
   "source": []
  }
 ],
 "metadata": {
  "kernelspec": {
   "display_name": "Python 3",
   "language": "python",
   "name": "python3"
  },
  "language_info": {
   "codemirror_mode": {
    "name": "ipython",
    "version": 3
   },
   "file_extension": ".py",
   "mimetype": "text/x-python",
   "name": "python",
   "nbconvert_exporter": "python",
   "pygments_lexer": "ipython3",
   "version": "3.8.8"
  }
 },
 "nbformat": 4,
 "nbformat_minor": 5
}
