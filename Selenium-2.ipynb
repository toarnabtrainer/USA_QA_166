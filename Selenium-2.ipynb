{
 "cells": [
  {
   "cell_type": "code",
   "execution_count": 19,
   "id": "bed33d4b-ea25-4b37-9a2f-9ff240cb37ce",
   "metadata": {},
   "outputs": [
    {
     "name": "stdout",
     "output_type": "stream",
     "text": [
      "4.1.3\n"
     ]
    }
   ],
   "source": [
    "# importing required modules\n",
    "from selenium import webdriver\n",
    "\n",
    "# check the version of selenium\n",
    "print (webdriver.__version__)"
   ]
  },
  {
   "cell_type": "code",
   "execution_count": 20,
   "id": "81ade541-1da7-473d-b306-9c058991d986",
   "metadata": {},
   "outputs": [
    {
     "name": "stderr",
     "output_type": "stream",
     "text": [
      "<ipython-input-20-4bf4fa45f77a>:3: DeprecationWarning: executable_path has been deprecated, please pass in a Service object\n",
      "  driver = webdriver.Chrome(executable_path=\"./chromedriver.exe\")\n"
     ]
    }
   ],
   "source": [
    "# please check chromerdriver.exe is present in the same directory or not\n",
    "# otherwise provide the relative path\n",
    "driver = webdriver.Chrome(executable_path=\"./chromedriver.exe\")"
   ]
  },
  {
   "cell_type": "code",
   "execution_count": 21,
   "id": "3eb849b9-3a0e-4e57-a8bf-2dce08a0dcad",
   "metadata": {},
   "outputs": [],
   "source": [
    "# now start a page to calculate the nCr operation\n",
    "URL = \"https://www.calculatorsoup.com/calculators/discretemathematics/combinations.php\"\n",
    "driver.get(URL)"
   ]
  },
  {
   "cell_type": "code",
   "execution_count": 24,
   "id": "e0d41068-b5ee-418e-b160-47e1f085132b",
   "metadata": {},
   "outputs": [],
   "source": [
    "# inside tgis page, input the value for n\n",
    "# n_input = driver.find_element_by_xpath('//*[@id = \"n\"]')\n",
    "n_input = driver.find_element(\"id\", \"n\")\n",
    "n_input.send_keys(\"10\")"
   ]
  },
  {
   "cell_type": "code",
   "execution_count": 26,
   "id": "078975b2-c61b-4970-b2b6-9d90ebdbb6c8",
   "metadata": {},
   "outputs": [],
   "source": [
    "from selenium.webdriver.common.keys import Keys\n",
    "\n",
    "n_input.send_keys(Keys.TAB)\n",
    "r_input = driver.switch_to.active_element\n",
    "\n",
    "r_input.send_keys(\"5\")"
   ]
  },
  {
   "cell_type": "code",
   "execution_count": 23,
   "id": "51cd5c56-7d76-426d-95bc-e1998386edf8",
   "metadata": {},
   "outputs": [],
   "source": [
    "# inside tgis page, input the value for r\n",
    "# r_input = driver.find_element_by_xpath('//*[@id = \"r\"]')\n",
    "r_input = driver.find_element(\"id\", \"r\")\n",
    "r_input.send_keys(\"6\")"
   ]
  },
  {
   "cell_type": "code",
   "execution_count": null,
   "id": "7128f823-6690-4615-be28-af46842b2b0d",
   "metadata": {},
   "outputs": [],
   "source": [
    "# inside tgis page, input the value for r\n",
    "r_input = driver.find_element_by_xpath('//*[@id = \"r\"]')\n",
    "r_input.send_keys(\"6\")"
   ]
  },
  {
   "cell_type": "code",
   "execution_count": 6,
   "id": "15c1de94-62cd-4040-bc29-ae169e1113f5",
   "metadata": {},
   "outputs": [
    {
     "name": "stderr",
     "output_type": "stream",
     "text": [
      "<ipython-input-6-6dbabd22eadf>:2: DeprecationWarning: find_element_by_xpath is deprecated. Please use find_element(by=By.XPATH, value=xpath) instead\n",
      "  calculate_button = driver.find_element_by_xpath('//*[@id = \"calculateButton\"]')\n"
     ]
    }
   ],
   "source": [
    "# now go to the calculate command buttin and click on it\n",
    "calculate_button = driver.find_element_by_xpath('//*[@id = \"calculateButton\"]')\n",
    "calculate_button.click()"
   ]
  },
  {
   "cell_type": "code",
   "execution_count": 7,
   "id": "26fb301f-8e0f-44f3-bf23-2336f273605a",
   "metadata": {},
   "outputs": [
    {
     "name": "stdout",
     "output_type": "stream",
     "text": [
      "So the retrieved result is = 210\n"
     ]
    },
    {
     "name": "stderr",
     "output_type": "stream",
     "text": [
      "<ipython-input-7-8deb51945ec6>:2: DeprecationWarning: find_element_by_xpath is deprecated. Please use find_element(by=By.XPATH, value=xpath) instead\n",
      "  result_area = driver.find_element_by_xpath('//*[@id = \"answer\"]/div[1]')\n"
     ]
    }
   ],
   "source": [
    "# read the answer from the result area\n",
    "result_area = driver.find_element_by_xpath('//*[@id = \"answer\"]/div[1]')\n",
    "result = result_area.text\n",
    "print (\"So the retrieved result is\", result)"
   ]
  },
  {
   "cell_type": "code",
   "execution_count": 12,
   "id": "8579e90e-12b7-451c-97f7-e24819e93cf8",
   "metadata": {},
   "outputs": [
    {
     "name": "stdout",
     "output_type": "stream",
     "text": [
      "['=', '210']\n",
      "210\n",
      "So the processed result is 210\n"
     ]
    }
   ],
   "source": [
    "print (result.split(\" \"))\n",
    "print (result.split(\" \")[1].strip())\n",
    "result = result.split(\" \")[1].strip()\n",
    "print (\"So the processed result is\", result)"
   ]
  },
  {
   "cell_type": "code",
   "execution_count": 27,
   "id": "262e7c21-28be-4bf1-b90b-ed983105ed8f",
   "metadata": {},
   "outputs": [],
   "source": [
    "n_input.clear()\n",
    "r_input.clear()"
   ]
  },
  {
   "cell_type": "code",
   "execution_count": 11,
   "id": "48112cc7-06b2-476a-8609-e5e1dc46f18a",
   "metadata": {},
   "outputs": [
    {
     "name": "stdout",
     "output_type": "stream",
     "text": [
      "   university    16\n",
      "university 10\n"
     ]
    }
   ],
   "source": [
    "mystr = \"   university   \"\n",
    "print (mystr, len(mystr))\n",
    "mystr = mystr.strip()\n",
    "print (mystr, len(mystr))"
   ]
  },
  {
   "cell_type": "code",
   "execution_count": null,
   "id": "682e18c3-563f-4d1c-9748-e93847bcc5ab",
   "metadata": {},
   "outputs": [],
   "source": []
  },
  {
   "cell_type": "code",
   "execution_count": null,
   "id": "d1ae76fc-802e-4991-9c71-64d7c0231c0b",
   "metadata": {},
   "outputs": [],
   "source": []
  },
  {
   "cell_type": "code",
   "execution_count": null,
   "id": "dfc72ca6-b73e-4fc3-9724-707263753334",
   "metadata": {},
   "outputs": [],
   "source": []
  },
  {
   "cell_type": "code",
   "execution_count": null,
   "id": "f515a78a-cf32-40d5-950e-1906d6ca9dba",
   "metadata": {},
   "outputs": [],
   "source": []
  },
  {
   "cell_type": "code",
   "execution_count": null,
   "id": "d9bee6e9-e937-4df9-ad12-0fb08fe6fcaa",
   "metadata": {},
   "outputs": [],
   "source": []
  }
 ],
 "metadata": {
  "kernelspec": {
   "display_name": "Python 3",
   "language": "python",
   "name": "python3"
  },
  "language_info": {
   "codemirror_mode": {
    "name": "ipython",
    "version": 3
   },
   "file_extension": ".py",
   "mimetype": "text/x-python",
   "name": "python",
   "nbconvert_exporter": "python",
   "pygments_lexer": "ipython3",
   "version": "3.8.8"
  }
 },
 "nbformat": 4,
 "nbformat_minor": 5
}
